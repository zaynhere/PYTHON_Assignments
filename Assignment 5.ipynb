{
 "nbformat": 4,
 "nbformat_minor": 2,
 "metadata": {
  "language_info": {
   "name": "python",
   "codemirror_mode": {
    "name": "ipython",
    "version": 3
   },
   "version": "3.7.3"
  },
  "orig_nbformat": 2,
  "file_extension": ".py",
  "mimetype": "text/x-python",
  "name": "python",
  "npconvert_exporter": "python",
  "pygments_lexer": "ipython3",
  "version": 3
 },
 "cells": [
  {
   "cell_type": "code",
   "execution_count": 6,
   "metadata": {},
   "outputs": [
    {
     "name": "stdout",
     "output_type": "stream",
     "text": "the factorial of a number is: 1\n"
    }
   ],
   "source": [
    "#Question no 1\n",
    "# Python function to compute factorial of a number \n",
    "\n",
    "def factorial_of(x):\n",
    "    import math \n",
    "    print(\"the factorial of a number is: \" + str(math.factorial(x)))\n",
    "factorial_of(0)    \n"
   ]
  },
  {
   "cell_type": "code",
   "execution_count": null,
   "metadata": {},
   "outputs": [],
   "source": []
  },
  {
   "cell_type": "code",
   "execution_count": 18,
   "metadata": {},
   "outputs": [
    {
     "name": "stdout",
     "output_type": "stream",
     "text": "uppercase letters :4\nlowercase letters :8\n"
    }
   ],
   "source": [
    "#Question no 2\n",
    "#python function that calculate the number of upper case letters and lower case letters\n",
    "\n",
    "def string_test(string):\n",
    "    uppercase=0\n",
    "    lowercase=0\n",
    "    for i in string:\n",
    "        if i.islower() :\n",
    "             lowercase += 1\n",
    "        elif i.isupper() :    \n",
    "            uppercase += 1\n",
    "        else:\n",
    "            pass\n",
    "    print(\"uppercase letters :\" + str(uppercase))\n",
    "    print(\"lowercase letters :\" + str(lowercase))\n",
    "\n",
    "string_test(\"My Name is XaYn\")            \n"
   ]
  },
  {
   "cell_type": "code",
   "execution_count": 13,
   "metadata": {},
   "outputs": [
    {
     "name": "stdout",
     "output_type": "stream",
     "text": "even number in the list is:  2\neven number in the list is:  4\n"
    }
   ],
   "source": [
    "# Question no 3\n",
    "# pyhon function to print the even number from a list\n",
    "\n",
    "\n",
    "def num_test(list):\n",
    "    for num in list:\n",
    "        if num % 2 == 0:\n",
    "            print(\"even number in the list is: \" ,num)\n",
    "        else:\n",
    "            pass\n",
    "num_test([1,2,3,4,5])                \n",
    "            \n",
    "    "
   ]
  },
  {
   "cell_type": "code",
   "execution_count": 38,
   "metadata": {},
   "outputs": [
    {
     "name": "stdout",
     "output_type": "stream",
     "text": "The given string is PALINDROME\n"
    }
   ],
   "source": [
    "# Question no 4\n",
    "# python function that indicates if a given string is a palindrome or not.\n",
    "\n",
    "def palindrome(string):\n",
    "    if (string==string[::-1]):\n",
    "        print('The given string is PALINDROME')\n",
    "    else:\n",
    "        print('The string is not a palindrome')\n",
    "            \n",
    "palindrome(\"12321\")"
   ]
  },
  {
   "cell_type": "code",
   "execution_count": 85,
   "metadata": {},
   "outputs": [],
   "source": [
    "# Question no 5\n",
    "# Python function that takes a number as a parameter and checks if a number is a prime or not.\n",
    "\n",
    "def isprime(num):\n",
    "      if num > 1: \n",
    "\n",
    "       for i in range(2, num//2): \n",
    " \n",
    "            if (num % i) == 0: \n",
    "                 print(num, \"is not a prime number\") \n",
    "            else: \n",
    "              print(num, \"is a prime number\") \n",
    "            break\n",
    "      \n",
    "            \n",
    "isprime(4)           \n",
    "      "
   ]
  },
  {
   "cell_type": "code",
   "execution_count": 84,
   "metadata": {},
   "outputs": [
    {
     "name": "stdout",
     "output_type": "stream",
     "text": "rubber pencil pen\n"
    }
   ],
   "source": [
    "# Question no 6\n",
    "# python function which accepts multiple arguements\n",
    "\n",
    "def shopping(*list):\n",
    "    print(*list)\n",
    "shopping('rubber', 'pencil', 'pen')    "
   ]
  },
  {
   "cell_type": "code",
   "execution_count": null,
   "metadata": {},
   "outputs": [],
   "source": []
  }
 ]
}