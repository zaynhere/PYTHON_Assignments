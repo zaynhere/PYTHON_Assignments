{
 "cells": [
  {
   "cell_type": "markdown",
   "metadata": {},
   "source": [
    "# Question no 1\n",
    "##### Define object oriented proogramming language?\n",
    "\n",
    "Object-oriented programming (OOP) refers to a type of computer programming (software design) in which programmers define the data type of a data structure, and also the types of operations (functions) that can be applied to the data structure."
   ]
  },
  {
   "cell_type": "markdown",
   "metadata": {},
   "source": [
    "# Question no 2\n",
    "##### List down the Benefits of OOP?\n",
    "Benefits of oops include; \n",
    "\n",
    "    reusability of code \n",
    "    maintainabilty of code \n",
    "    portability \n",
    "    extensibility\n",
    "    \n",
    "Oops involve features like encapsulation,data hiding,abstraction, polymorphism, modularity etc. All of these features differentiates OOPS from procedural programming."
   ]
  },
  {
   "cell_type": "markdown",
   "metadata": {},
   "source": [
    "# Question no 3\n",
    "##### Differentiate between function and method?\n",
    "\n",
    "\n",
    "Method and a function are the same, with different terms. \n",
    "\n",
    " method is a procedure or function in object-oriented programming.\n",
    " \n",
    "A function is a group of reusable code which can be called anywhere in your program. This eliminates the need for writing the same code again and again.\n"
   ]
  },
  {
   "cell_type": "markdown",
   "metadata": {},
   "source": [
    "# Question no 4\n",
    "##### Define the following terms:\n",
    "1. Class\n",
    "2. Object\n",
    "3. Attribute\n",
    "4. Behavior\n",
    "\n",
    "### Class:\n",
    "In object-oriented programming, a class is a blueprint for creating objects (a particular data structure), providing initial values for state (member variables or attributes), and implementations of behavior (member functions or methods). The user-defined objects are created using the class keyword.\n",
    "\n",
    "\n",
    "### Object:\n",
    "\n",
    "Object-oriented programming, or OOP, is an approach to problem solving where all computations are carried out using objects. An object is a component of a program that knows how to perform certain actions and how to interact with other elements of the program. Objects are the basic units of object-oriented programming.\n",
    "\n",
    "\n",
    "### Attribute:\n",
    "In Object-oriented programming(OOP), classes and objects have attributes. Attributes are data stored inside a class or instance and represent the state or quality of the class or instance. In short, attributesstore information about the instance.\n",
    "\n",
    "\n",
    "### Behavior: \n",
    "A class's behavior determines how an instance of that class operates; for example, how it will \"react\" if asked to do something by another class or object or if its internal state changes. Behavior is the only way objects can do anything to themselves or have anything done to them."
   ]
  },
  {
   "cell_type": "code",
   "execution_count": 4,
   "metadata": {},
   "outputs": [
    {
     "name": "stdout",
     "output_type": "stream",
     "text": [
      "V12\n"
     ]
    }
   ],
   "source": [
    "class car():\n",
    "    def __init__(self, name, color, model, price, engine):\n",
    "        self.name=name\n",
    "        self.color=color\n",
    "        self.model=model\n",
    "        self.price=price\n",
    "        self.engine=engine\n",
    "        \n",
    "# 5 instances        \n",
    "car1= car('Lexus','black','LX 570 TWO-ROW','$86.380','V8')\n",
    "car2= car('Toyota','white','land cruiser','$85,315','V8')\n",
    "car3= car('Lamborghini','red','Urus','$300000','4.0 L FSI twin-turbocharged V8')\n",
    "car4= car('Ferrari','red','812 Superfast','$474,486','V12')\n",
    "car5= car('Honda','black','Civic','$28,750','2.0L 4-cylinder engine')\n",
    "\n",
    "print(car4.engine)"
   ]
  },
  {
   "cell_type": "code",
   "execution_count": null,
   "metadata": {},
   "outputs": [],
   "source": []
  }
 ],
 "metadata": {
  "kernelspec": {
   "display_name": "Python 3",
   "language": "python",
   "name": "python3"
  },
  "language_info": {
   "codemirror_mode": {
    "name": "ipython",
    "version": 3
   },
   "file_extension": ".py",
   "mimetype": "text/x-python",
   "name": "python",
   "nbconvert_exporter": "python",
   "pygments_lexer": "ipython3",
   "version": "3.7.3"
  }
 },
 "nbformat": 4,
 "nbformat_minor": 2
}
