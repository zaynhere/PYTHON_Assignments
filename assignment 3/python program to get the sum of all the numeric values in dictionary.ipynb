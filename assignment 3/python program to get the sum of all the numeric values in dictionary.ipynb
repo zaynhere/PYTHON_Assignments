{
 "cells": [
  {
   "cell_type": "code",
   "execution_count": 33,
   "metadata": {},
   "outputs": [
    {
     "name": "stdout",
     "output_type": "stream",
     "text": [
      "sum of all the numeric values in  dictionary is : \n",
      "454\n"
     ]
    }
   ],
   "source": [
    "# dictionary of marks gained of different subjects of a student \n",
    "marks={\n",
    "    \"english\" : 65,\n",
    "    \"urdu\" : 75,\n",
    "    \"pst\" : 49,\n",
    "    \"computer\": 85,\n",
    "    \"physics\" :80,\n",
    "    \"maths\" : 100,\n",
    "}\n",
    "for each_value in marks.values():\n",
    "      total=sum(marks.values())\n",
    "print(\"sum of all the numeric values in  dictionary is : \")\n",
    "print(total)\n",
    "\n",
    "\n",
    "\n",
    "\n",
    "    "
   ]
  },
  {
   "cell_type": "code",
   "execution_count": 32,
   "metadata": {},
   "outputs": [
    {
     "name": "stdout",
     "output_type": "stream",
     "text": [
      "sum of all the numeric values in  dictionary is : \n",
      "454\n"
     ]
    }
   ],
   "source": [
    "#Another method\n",
    "marks={\n",
    "    \"english\" : 65,\n",
    "    \"urdu\" : 75,\n",
    "    \"pst\" : 49,\n",
    "    \"computer\": 85,\n",
    "    \"physics\" :80,\n",
    "    \"maths\" : 100,\n",
    "}\n",
    "print(\"sum of all the numeric values in  dictionary is : \")\n",
    "print(sum(marks.values()))"
   ]
  },
  {
   "cell_type": "code",
   "execution_count": null,
   "metadata": {},
   "outputs": [],
   "source": []
  }
 ],
 "metadata": {
  "kernelspec": {
   "display_name": "Python 3",
   "language": "python",
   "name": "python3"
  },
  "language_info": {
   "codemirror_mode": {
    "name": "ipython",
    "version": 3
   },
   "file_extension": ".py",
   "mimetype": "text/x-python",
   "name": "python",
   "nbconvert_exporter": "python",
   "pygments_lexer": "ipython3",
   "version": "3.7.3"
  }
 },
 "nbformat": 4,
 "nbformat_minor": 2
}
