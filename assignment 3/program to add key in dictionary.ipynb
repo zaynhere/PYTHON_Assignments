{
 "cells": [
  {
   "cell_type": "code",
   "execution_count": 13,
   "metadata": {},
   "outputs": [
    {
     "name": "stdout",
     "output_type": "stream",
     "text": [
      "{'name': 'saqib', 'father name': 'ali raza', 'roll no': '5', 'class': '12th', 'section': 'C'}\n"
     ]
    }
   ],
   "source": [
    "student_biodata = {\n",
    "    \"name\": \"saqib\",\n",
    "    \"father name\": \"ali raza\",\n",
    "    \"roll no\": \"5\",\n",
    "}\n",
    "#adding new key value pair\n",
    "\n",
    "student_biodata[\"class\"]=\"12th\"\n",
    "student_biodata[\"section\"]=\"C\"\n",
    "print(student_biodata)"
   ]
  },
  {
   "cell_type": "code",
   "execution_count": null,
   "metadata": {},
   "outputs": [],
   "source": []
  },
  {
   "cell_type": "code",
   "execution_count": null,
   "metadata": {},
   "outputs": [],
   "source": []
  }
 ],
 "metadata": {
  "kernelspec": {
   "display_name": "Python 3",
   "language": "python",
   "name": "python3"
  },
  "language_info": {
   "codemirror_mode": {
    "name": "ipython",
    "version": 3
   },
   "file_extension": ".py",
   "mimetype": "text/x-python",
   "name": "python",
   "nbconvert_exporter": "python",
   "pygments_lexer": "ipython3",
   "version": "3.7.3"
  }
 },
 "nbformat": 4,
 "nbformat_minor": 2
}
