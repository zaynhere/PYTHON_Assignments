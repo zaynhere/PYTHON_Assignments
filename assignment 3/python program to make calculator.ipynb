{
 "cells": [
  {
   "cell_type": "code",
   "execution_count": 4,
   "metadata": {},
   "outputs": [
    {
     "name": "stdout",
     "output_type": "stream",
     "text": [
      "enter the first value : 12\n",
      "enter the operator : +\n",
      "enter the second value : 12\n",
      "the answer is : 24\n"
     ]
    }
   ],
   "source": [
    "val1=int(input('enter the first value : '))\n",
    "operator=input('enter the operator : ')\n",
    "val2=int(input('enter the second value : '))\n",
    "\n",
    "if operator == \"+\" :\n",
    "    print('the answer is :', val1 + val2)\n",
    "elif operator == \"-\" :\n",
    "    print('the answer is :', val1 - val2)\n",
    "elif operator == \"*\" :\n",
    "    print('the answer is :', val1 * val2)\n",
    "elif operator == \"/\" :\n",
    "    print('the answer is :', val1 / val2)\n",
    "elif operator == \"**\" :\n",
    "    print('the answer is :', val1 ** val2)\n",
    "else :\n",
    "    print(\"enter the correct operator\")\n",
    "    \n",
    "    "
   ]
  },
  {
   "cell_type": "code",
   "execution_count": null,
   "metadata": {},
   "outputs": [],
   "source": []
  }
 ],
 "metadata": {
  "kernelspec": {
   "display_name": "Python 3",
   "language": "python",
   "name": "python3"
  },
  "language_info": {
   "codemirror_mode": {
    "name": "ipython",
    "version": 3
   },
   "file_extension": ".py",
   "mimetype": "text/x-python",
   "name": "python",
   "nbconvert_exporter": "python",
   "pygments_lexer": "ipython3",
   "version": "3.7.3"
  }
 },
 "nbformat": 4,
 "nbformat_minor": 2
}
