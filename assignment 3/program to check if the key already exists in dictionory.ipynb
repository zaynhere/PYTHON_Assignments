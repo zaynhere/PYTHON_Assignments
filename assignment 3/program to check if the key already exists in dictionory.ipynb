{
 "cells": [
  {
   "cell_type": "code",
   "execution_count": null,
   "metadata": {},
   "outputs": [],
   "source": [
    "test_dict = {\n",
    "    \"CEO\" : \"Jack Ma\",\n",
    "    \"company\" : \"Alibaba group\",\n",
    "    \"net worth\" : \"42.7$ billion\",\n",
    "}\n",
    "key=input(\"enter the key : \")\n",
    "for a_key in test_dict.keys():\n",
    "    if key==a_key :\n",
    "        print(\"the given key exist\")\n",
    "    else :\n",
    "        print(\"the given key doesn't exist\")\n",
    "# sir here I want to ask a question that if I put \"break\" here then it always say that key doesnt exist but when I remove the \"break\" then loop checks line by line and provide the correct result. So what do I have to do in order to get single correct result\n",
    "                \n",
    "        "
   ]
  },
  {
   "cell_type": "code",
   "execution_count": null,
   "metadata": {},
   "outputs": [],
   "source": []
  },
  {
   "cell_type": "code",
   "execution_count": null,
   "metadata": {},
   "outputs": [],
   "source": []
  }
 ],
 "metadata": {
  "kernelspec": {
   "display_name": "Python 3",
   "language": "python",
   "name": "python3"
  },
  "language_info": {
   "codemirror_mode": {
    "name": "ipython",
    "version": 3
   },
   "file_extension": ".py",
   "mimetype": "text/x-python",
   "name": "python",
   "nbconvert_exporter": "python",
   "pygments_lexer": "ipython3",
   "version": "3.7.3"
  }
 },
 "nbformat": 4,
 "nbformat_minor": 2
}
