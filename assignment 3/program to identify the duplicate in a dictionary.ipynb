{
 "cells": [
  {
   "cell_type": "code",
   "execution_count": null,
   "metadata": {},
   "outputs": [],
   "source": [
    "test_dict = {\n",
    "    \"CEO\" : \"Mark Zuckerburg\",\n",
    "    \"company\" : \"Facebook\",\n",
    "    \"site kind\" : \"social media\",\n",
    "    \"company\" : \"Facebook\"\n",
    "}\n",
    "for duplicate in test_dict\n",
    "\n",
    "# sir please correct this program I did not able to do it\n"
   ]
  }
 ],
 "metadata": {
  "kernelspec": {
   "display_name": "Python 3",
   "language": "python",
   "name": "python3"
  },
  "language_info": {
   "codemirror_mode": {
    "name": "ipython",
    "version": 3
   },
   "file_extension": ".py",
   "mimetype": "text/x-python",
   "name": "python",
   "nbconvert_exporter": "python",
   "pygments_lexer": "ipython3",
   "version": "3.7.3"
  }
 },
 "nbformat": 4,
 "nbformat_minor": 2
}
