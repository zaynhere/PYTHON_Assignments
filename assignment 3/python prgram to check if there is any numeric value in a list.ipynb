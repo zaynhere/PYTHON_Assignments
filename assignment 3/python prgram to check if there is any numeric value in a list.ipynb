{
 "cells": [
  {
   "cell_type": "code",
   "execution_count": 27,
   "metadata": {},
   "outputs": [
    {
     "name": "stdout",
     "output_type": "stream",
     "text": [
      "enter the numeric value : 5\n",
      "this is not a numeric value\n"
     ]
    }
   ],
   "source": [
    "# sir please correct this program for me, I looked for the solution online but nothing helped me.\n",
    "\n",
    "\n",
    "\n",
    "\n",
    "\n",
    "test_list = i['ali' , '5' , 'abbas' , '88' , 'zain']\n",
    "val=input('enter the numeric value : ')\n",
    "for numeric_value in test_list :\n",
    "    if val == numeric_value:\n",
    "        print('it is the numeric value')\n",
    "    else : \n",
    "        print( 'this is not a numeric value' )  \n",
    "        break\n",
    "        "
   ]
  },
  {
   "cell_type": "code",
   "execution_count": null,
   "metadata": {},
   "outputs": [],
   "source": []
  },
  {
   "cell_type": "code",
   "execution_count": null,
   "metadata": {},
   "outputs": [],
   "source": []
  }
 ],
 "metadata": {
  "kernelspec": {
   "display_name": "Python 3",
   "language": "python",
   "name": "python3"
  },
  "language_info": {
   "codemirror_mode": {
    "name": "ipython",
    "version": 3
   },
   "file_extension": ".py",
   "mimetype": "text/x-python",
   "name": "python",
   "nbconvert_exporter": "python",
   "pygments_lexer": "ipython3",
   "version": "3.7.3"
  }
 },
 "nbformat": 4,
 "nbformat_minor": 2
}
