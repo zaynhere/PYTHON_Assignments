{
 "cells": [
  {
   "cell_type": "code",
   "execution_count": 12,
   "metadata": {},
   "outputs": [
    {
     "name": "stdout",
     "output_type": "stream",
     "text": [
      "length of list is : 3\n"
     ]
    }
   ],
   "source": [
    "list_of_pets_i_like = ['monkey' , 'dog' , 'cat']\n",
    "length_of_list = len(list_of_pets_i_like)\n",
    "length_of_list=str(length_of_list)\n",
    "print('length of list is : ' + length_of_list)"
   ]
  }
 ],
 "metadata": {
  "kernelspec": {
   "display_name": "Python 3",
   "language": "python",
   "name": "python3"
  },
  "language_info": {
   "codemirror_mode": {
    "name": "ipython",
    "version": 3
   },
   "file_extension": ".py",
   "mimetype": "text/x-python",
   "name": "python",
   "nbconvert_exporter": "python",
   "pygments_lexer": "ipython3",
   "version": "3.7.3"
  }
 },
 "nbformat": 4,
 "nbformat_minor": 2
}
