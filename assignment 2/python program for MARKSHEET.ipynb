{
 "cells": [
  {
   "cell_type": "code",
   "execution_count": 17,
   "metadata": {},
   "outputs": [
    {
     "name": "stdout",
     "output_type": "stream",
     "text": [
      "Enter Marks in English : 100\n",
      "Enter Marks in Maths: 100\n",
      "Enter Marks in Physics: 100\n",
      "Enter Marks in Chemistry: 100\n",
      "Enter Marks in Computer Science: 100\n",
      "A+ grade and your percentage is  100.0\n"
     ]
    }
   ],
   "source": [
    "a=float(input(\"Enter Marks in English : \"))\n",
    "b=float(input(\"Enter Marks in Maths: \"))\n",
    "c=float(input(\"Enter Marks in Physics: \"))\n",
    "d=float(input(\"Enter Marks in Chemistry: \"))\n",
    "e=float(input(\"Enter Marks in Computer Science: \"))\n",
    "per=((a+b+c+d+e) * 100) / 500\n",
    "if(per >= 80):\n",
    "    \n",
    "    print(\"A+ grade and your percentage is \", per)\n",
    "elif(per >= 70 and per < 80):\n",
    "    print(\" A grade and your percentage is \", per )\n",
    "elif (per >= 60 and per < 70) :\n",
    "    print(\" B grade and your percentage is \", per)\n",
    "elif (per >= 50 and per < 60) :\n",
    "    print(\" C grade and your percentage is \", per)\n",
    "elif (per < 40) :\n",
    "    print( \"You are fail\")"
   ]
  },
  {
   "cell_type": "markdown",
   "metadata": {},
   "source": [
    " "
   ]
  }
 ],
 "metadata": {
  "kernelspec": {
   "display_name": "Python 3",
   "language": "python",
   "name": "python3"
  },
  "language_info": {
   "codemirror_mode": {
    "name": "ipython",
    "version": 3
   },
   "file_extension": ".py",
   "mimetype": "text/x-python",
   "name": "python",
   "nbconvert_exporter": "python",
   "pygments_lexer": "ipython3",
   "version": "3.7.3"
  }
 },
 "nbformat": 4,
 "nbformat_minor": 2
}
