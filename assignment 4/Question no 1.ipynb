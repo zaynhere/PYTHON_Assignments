{
 "cells": [
  {
   "cell_type": "code",
   "execution_count": 24,
   "metadata": {},
   "outputs": [
    {
     "name": "stdout",
     "output_type": "stream",
     "text": [
      "{'first_name': 'ali', 'last_name': 'abbas', 'age': '20', 'city': 'karachi'}\n"
     ]
    }
   ],
   "source": [
    "# key value pairs are assigned here\n",
    "\n",
    "college_mate={\n",
    "    \"first_name\" : \"ali\",\n",
    "    \"last_name\" : \"abbas\",\n",
    "    \"age\" : \"20\",\n",
    "    \"city\" : \"karachi\",\n",
    "}\n",
    "print(college_mate)\n"
   ]
  },
  {
   "cell_type": "code",
   "execution_count": 25,
   "metadata": {},
   "outputs": [
    {
     "name": "stdout",
     "output_type": "stream",
     "text": [
      "{'first_name': 'ali', 'last_name': 'abbas', 'age': '20', 'city': 'karachi', 'qualification': 'BSCS'}\n"
     ]
    }
   ],
   "source": [
    "# new key value pair is added that is for qualifcation\n",
    "\n",
    "college_mate= {\n",
    "    \"first_name\" : \"ali\",\n",
    "    \"last_name\" : \"abbas\",\n",
    "    \"age\" : \"20\",\n",
    "    \"city\" : \"karachi\",\n",
    "}\n",
    "college_mate[\"qualification\"]=\"BSCS\"\n",
    "print(college_mate)"
   ]
  },
  {
   "cell_type": "code",
   "execution_count": 26,
   "metadata": {},
   "outputs": [
    {
     "name": "stdout",
     "output_type": "stream",
     "text": [
      "{'first_name': 'ali', 'last_name': 'abbas', 'age': '20', 'city': 'karachi', 'qualification': 'masters in CS'}\n"
     ]
    }
   ],
   "source": [
    "# \"qualification\" value is updated with highest degree here\n",
    "\n",
    "college_mate[\"qualification\"]=\"masters in CS\"\n",
    "print(college_mate)"
   ]
  },
  {
   "cell_type": "code",
   "execution_count": 27,
   "metadata": {},
   "outputs": [
    {
     "name": "stdout",
     "output_type": "stream",
     "text": [
      "{'first_name': 'ali', 'last_name': 'abbas', 'age': '20', 'city': 'karachi'}\n"
     ]
    }
   ],
   "source": [
    "# key value pair of \"qualification\" is being deleted here\n",
    "\n",
    "del(college_mate[\"qualification\"])\n",
    "print(college_mate)"
   ]
  },
  {
   "cell_type": "code",
   "execution_count": null,
   "metadata": {},
   "outputs": [],
   "source": []
  }
 ],
 "metadata": {
  "kernelspec": {
   "display_name": "Python 3",
   "language": "python",
   "name": "python3"
  },
  "language_info": {
   "codemirror_mode": {
    "name": "ipython",
    "version": 3
   },
   "file_extension": ".py",
   "mimetype": "text/x-python",
   "name": "python",
   "nbconvert_exporter": "python",
   "pygments_lexer": "ipython3",
   "version": "3.7.3"
  }
 },
 "nbformat": 4,
 "nbformat_minor": 2
}
