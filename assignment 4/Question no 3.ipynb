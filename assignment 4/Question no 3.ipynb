{
 "cells": [
  {
   "cell_type": "code",
   "execution_count": null,
   "metadata": {},
   "outputs": [],
   "source": [
    "person_age = \"write your age\"\n",
    "person_age += \"\\n enter 'quit' when you're finished. \"\n",
    "\n",
    "while True:\n",
    "    age = input(person_age)\n",
    "    if age == 'quit':\n",
    "        break\n",
    "    age = int(age)\n",
    "    \n",
    "    if age < 3:\n",
    "        print(\"your ticket is free\")\n",
    "    elif age > 3 and age <= 12:\n",
    "        print(\"your ticket price is $10\")\n",
    "    elif age > 12:\n",
    "        print(\"your ticket price is $15\")\n",
    "    else:\n",
    "        print(\"enter correct age\")"
   ]
  },
  {
   "cell_type": "code",
   "execution_count": null,
   "metadata": {},
   "outputs": [],
   "source": []
  }
 ],
 "metadata": {
  "kernelspec": {
   "display_name": "Python 3",
   "language": "python",
   "name": "python3"
  },
  "language_info": {
   "codemirror_mode": {
    "name": "ipython",
    "version": 3
   },
   "file_extension": ".py",
   "mimetype": "text/x-python",
   "name": "python",
   "nbconvert_exporter": "python",
   "pygments_lexer": "ipython3",
   "version": "3.7.3"
  }
 },
 "nbformat": 4,
 "nbformat_minor": 2
}
