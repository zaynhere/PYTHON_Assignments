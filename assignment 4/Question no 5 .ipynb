{
 "cells": [
  {
   "cell_type": "code",
   "execution_count": null,
   "metadata": {},
   "outputs": [
    {
     "name": "stdout",
     "output_type": "stream",
     "text": [
      "hey! What is your name?\n"
     ]
    }
   ],
   "source": [
    "import random\n",
    "\n",
    "guessesTaken = 0\n",
    "\n",
    "print('hey! What is your name?')\n",
    "\n",
    "myName = input()\n",
    "\n",
    "number = random.randint(1, 20)\n",
    "\n",
    "print('Well, ' + myName + ', I am thinking of a number between 1 and 20.')\n",
    "\n",
    "while guessesTaken < 3:\n",
    "\n",
    "    print('Take a guess.') \n",
    "\n",
    "    guess = input()\n",
    "\n",
    "    guess = int(guess)\n",
    "    \n",
    "    guessesTaken = guessesTaken + 1\n",
    "\n",
    "    if guess < number:\n",
    "\n",
    "        print('Your guess is too low.') \n",
    "    if guess > number:\n",
    "\n",
    "        print('Your guess is too high.')\n",
    "\n",
    "\n",
    "    if guess == number:\n",
    "\n",
    "        break\n",
    " \n",
    "if guess == number:\n",
    "\n",
    "    guessesTaken = str(guessesTaken)\n",
    "\n",
    "    print('Good job, ' + myName + '! You guessed my number in ' + guessesTaken + ' guesses!')\n",
    "    \n",
    "if guess != number:\n",
    "\n",
    "    number = str(number)\n",
    "\n",
    "    print('Nope. The number I was thinking of was ' + number)"
   ]
  },
  {
   "cell_type": "code",
   "execution_count": 11,
   "metadata": {},
   "outputs": [],
   "source": []
  },
  {
   "cell_type": "code",
   "execution_count": null,
   "metadata": {},
   "outputs": [],
   "source": []
  },
  {
   "cell_type": "code",
   "execution_count": null,
   "metadata": {},
   "outputs": [],
   "source": []
  }
 ],
 "metadata": {
  "kernelspec": {
   "display_name": "Python 3",
   "language": "python",
   "name": "python3"
  },
  "language_info": {
   "codemirror_mode": {
    "name": "ipython",
    "version": 3
   },
   "file_extension": ".py",
   "mimetype": "text/x-python",
   "name": "python",
   "nbconvert_exporter": "python",
   "pygments_lexer": "ipython3",
   "version": "3.7.3"
  }
 },
 "nbformat": 4,
 "nbformat_minor": 2
}
