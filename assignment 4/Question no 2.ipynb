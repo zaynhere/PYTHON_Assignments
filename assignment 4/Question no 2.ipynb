{
 "cells": [
  {
   "cell_type": "code",
   "execution_count": 53,
   "metadata": {},
   "outputs": [
    {
     "name": "stdout",
     "output_type": "stream",
     "text": [
      "information about istanbul : \n",
      "{'country': 'turkey', 'population': '14.6 million', 'fact': 'city of mosque'}\n"
     ]
    }
   ],
   "source": [
    "cities = { 'istanbul': {'country': 'turkey', 'population': '14.6 million', 'fact': 'city of mosque'}, \n",
    "            'karachi': {'country': 'pakistan', 'population': '14.91' , 'fact': 'city of lights'},\n",
    "            'beijing': {'country': 'china' , 'population': '18.5' , 'fact': 'culture hub of china' }\n",
    "         } \n",
    "print('information about istanbul : ')\n",
    "print(cities['istanbul']) "
   ]
  },
  {
   "cell_type": "code",
   "execution_count": 54,
   "metadata": {},
   "outputs": [
    {
     "name": "stdout",
     "output_type": "stream",
     "text": [
      "information about biejing : \n",
      "{'country': 'china', 'population': '18.5', 'fact': 'culture hub of china'}\n"
     ]
    }
   ],
   "source": [
    "print('information about biejing : ')\n",
    "print(cities['beijing'])\n"
   ]
  },
  {
   "cell_type": "code",
   "execution_count": 55,
   "metadata": {},
   "outputs": [
    {
     "name": "stdout",
     "output_type": "stream",
     "text": [
      "information about karachi : \n",
      "{'country': 'pakistan', 'population': '14.91', 'fact': 'city of lights'}\n"
     ]
    }
   ],
   "source": [
    "print('information about karachi : ')\n",
    "print(cities['karachi'])"
   ]
  },
  {
   "cell_type": "code",
   "execution_count": null,
   "metadata": {},
   "outputs": [],
   "source": []
  }
 ],
 "metadata": {
  "kernelspec": {
   "display_name": "Python 3",
   "language": "python",
   "name": "python3"
  },
  "language_info": {
   "codemirror_mode": {
    "name": "ipython",
    "version": 3
   },
   "file_extension": ".py",
   "mimetype": "text/x-python",
   "name": "python",
   "nbconvert_exporter": "python",
   "pygments_lexer": "ipython3",
   "version": "3.7.3"
  }
 },
 "nbformat": 4,
 "nbformat_minor": 2
}
