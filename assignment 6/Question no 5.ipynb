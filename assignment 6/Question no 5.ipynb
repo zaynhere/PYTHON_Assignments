{
 "nbformat": 4,
 "nbformat_minor": 2,
 "metadata": {
  "language_info": {
   "name": "python",
   "codemirror_mode": {
    "name": "ipython",
    "version": 3
   },
   "version": "3.7.3"
  },
  "orig_nbformat": 2,
  "file_extension": ".py",
  "mimetype": "text/x-python",
  "name": "python",
  "npconvert_exporter": "python",
  "pygments_lexer": "ipython3",
  "version": 3
 },
 "cells": [
  {
   "cell_type": "code",
   "execution_count": 38,
   "metadata": {},
   "outputs": [
    {
     "name": "stdout",
     "output_type": "stream",
     "text": "V12\n"
    }
   ],
   "source": [
    "class car():\n",
    "    def __init__(self, name, color, model, price, engine):\n",
    "        self.name=name\n",
    "        self.color=color\n",
    "        self.model=model\n",
    "        self.price=price\n",
    "        self.engine=engine\n",
    "        \n",
    "# 5 instances        \n",
    "car1= car('Lexus','black','LX 570 TWO-ROW','$86.380','V8')\n",
    "car2= car('Toyota','white','land cruiser','$85,315','V8')\n",
    "car3= car('Lamborghini','red','Urus','$300000','4.0 L FSI twin-turbocharged V8')\n",
    "car4= car('Ferrari','red','812 Superfast','$474,486','V12')\n",
    "car5= car('Honda','black','Civic','$28,750','2.0L 4-cylinder engine')\n",
    "\n",
    "print(car4.engine)\n",
    "  \n",
    "             \n",
    "\n",
    "\n",
    "\n",
    "\n"
   ]
  }
 ]
}